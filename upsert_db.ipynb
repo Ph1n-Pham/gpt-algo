{
 "cells": [
  {
   "cell_type": "code",
   "execution_count": null,
   "metadata": {},
   "outputs": [],
   "source": [
    "### Use to upload new documents to Pinecone"
   ]
  },
  {
   "cell_type": "code",
   "execution_count": null,
   "metadata": {},
   "outputs": [],
   "source": [
    "#store pdf\n",
    "loader = UnstructuredPDFLoader(\"data/Introduction_to_algorithms-3rd Edition.pdf\")\n",
    "data = loader.load()\n",
    "\n",
    "#split into chunks\n",
    "text_splitter = RecursiveCharacterTextSplitter(\n",
    "    #separator = '\\n',\n",
    "    chunk_size = 2000,  #size of each chunk\n",
    "    chunk_overlap = 300, #\n",
    "    #length_function = len\n",
    ")\n",
    "texts = text_splitter.split_documents(data)"
   ]
  }
 ],
 "metadata": {
  "language_info": {
   "name": "python"
  },
  "orig_nbformat": 4
 },
 "nbformat": 4,
 "nbformat_minor": 2
}
