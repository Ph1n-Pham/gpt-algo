{
 "cells": [
  {
   "cell_type": "markdown",
   "id": "ced990fb",
   "metadata": {},
   "source": [
    "# This notebook serves as a testing site"
   ]
  },
  {
   "cell_type": "code",
   "execution_count": 4,
   "id": "9d615a77",
   "metadata": {},
   "outputs": [],
   "source": [
    "# !pip install langchain --upgrade\n",
    "# # Version: 0.0.164\n",
    "#!pip install tiktoken\n",
    "# !pip install pypdf\n",
    "#!pip install python-dotenv"
   ]
  },
  {
   "cell_type": "code",
   "execution_count": 1,
   "id": "2d3e92ed",
   "metadata": {},
   "outputs": [],
   "source": [
    "# PDF Loaders. If unstructured gives you a hard time, try PyPDFLoader\n",
    "from langchain.document_loaders import UnstructuredPDFLoader, OnlinePDFLoader, PyPDFLoader\n",
    "import openai\n",
    "from langchain.text_splitter import RecursiveCharacterTextSplitter\n",
    "import os\n",
    "from dotenv import load_dotenv"
   ]
  },
  {
   "attachments": {},
   "cell_type": "markdown",
   "id": "5166d759",
   "metadata": {},
   "source": [
    "### Load your data"
   ]
  },
  {
   "cell_type": "code",
   "execution_count": 2,
   "id": "b4a2d6bf",
   "metadata": {},
   "outputs": [],
   "source": [
    "loader = PyPDFLoader(\"data/Introduction_to_algorithms-3rd Edition.pdf\")\n",
    "\n",
    "## Other options for loaders \n",
    "# loader = UnstructuredPDFLoader(\"../data/field-guide-to-data-science.pdf\")\n",
    "# loader = OnlinePDFLoader(\"https://wolfpaulus.com/wp-content/uploads/2017/05/field-guide-to-data-science.pdf\")"
   ]
  },
  {
   "cell_type": "code",
   "execution_count": 3,
   "id": "bcdac23c",
   "metadata": {},
   "outputs": [],
   "source": [
    "data = loader.load()"
   ]
  },
  {
   "cell_type": "code",
   "execution_count": 4,
   "id": "b4fd7c9e",
   "metadata": {},
   "outputs": [
    {
     "name": "stdout",
     "output_type": "stream",
     "text": [
      "You have 1313 document(s) in your data\n",
      "There are 983 characters in your document\n"
     ]
    }
   ],
   "source": [
    "# Note: If you're using PyPDFLoader then it will split by page for you already\n",
    "print (f'You have {len(data)} document(s) in your data')\n",
    "print (f'There are {len(data[6].page_content)} characters in your document')"
   ]
  },
  {
   "attachments": {},
   "cell_type": "markdown",
   "id": "8af9b604",
   "metadata": {},
   "source": [
    "### Chunk your data up into smaller documents"
   ]
  },
  {
   "cell_type": "code",
   "execution_count": 5,
   "id": "fb3c6f02",
   "metadata": {},
   "outputs": [],
   "source": [
    "# Note: If you're using PyPDFLoader then we'll be splitting for the 2nd time.\n",
    "# This is optional, test out on your own data.\n",
    "\n",
    "text_splitter = RecursiveCharacterTextSplitter(chunk_size=2000, chunk_overlap=200)\n",
    "texts = text_splitter.split_documents(data)"
   ]
  },
  {
   "cell_type": "code",
   "execution_count": 6,
   "id": "879873a4",
   "metadata": {},
   "outputs": [
    {
     "name": "stdout",
     "output_type": "stream",
     "text": [
      "Now you have 1919 documents\n"
     ]
    }
   ],
   "source": [
    "print (f'Now you have {len(texts)} documents')"
   ]
  },
  {
   "attachments": {},
   "cell_type": "markdown",
   "id": "838b2843",
   "metadata": {},
   "source": [
    "### Create embeddings of your documents to get ready for semantic search"
   ]
  },
  {
   "cell_type": "code",
   "execution_count": 11,
   "id": "1bfe867b",
   "metadata": {},
   "outputs": [],
   "source": [
    "# !pip3 install pinecone-client"
   ]
  },
  {
   "cell_type": "code",
   "execution_count": null,
   "id": "373e695a",
   "metadata": {},
   "outputs": [],
   "source": [
    "from langchain.vectorstores import Chroma, Pinecone\n",
    "from langchain.embeddings.openai import OpenAIEmbeddings\n",
    "import pinecone"
   ]
  },
  {
   "cell_type": "code",
   "execution_count": 39,
   "id": "6ce64dd0",
   "metadata": {},
   "outputs": [],
   "source": [
    "load_dotenv()\n",
    "\n",
    "OPENAI_API_KEY = os.environ.get('OPENAI_API_KEY')\n",
    "OPENAI_API_KEY = os.getenv(\"OPENAI_API_KEY\")\n",
    "PINECONE_API_KEY = os.environ.get('PINECONE_API_KEY')\n",
    "PINECONE_API_KEY = os.getenv('PINECONE_API_KEY')\n",
    "PINECONE_API_ENV = os.environ.get('PINECONE_API_ENV') \n",
    "openai_api_key = os.getenv(\"OPENAI_API_KEY\")\n",
    "pinecone_api_key = os.getenv(\"PINECONE_API_KEY\")\n",
    "pinecone_index = os.getenv(\"PINECONE_INDEX_NAME\")\n",
    "pinecone_env = os.getenv(\"PINECONE_API_ENV\")\n",
    "pinecone_namespace = os.getenv(\"PINECONE_NAMESPACE\")"
   ]
  },
  {
   "cell_type": "code",
   "execution_count": 9,
   "id": "4e0d1c6a",
   "metadata": {},
   "outputs": [],
   "source": [
    "embeddings = OpenAIEmbeddings(openai_api_key=OPENAI_API_KEY)"
   ]
  },
  {
   "cell_type": "code",
   "execution_count": 26,
   "id": "0deb2f6a",
   "metadata": {},
   "outputs": [],
   "source": [
    "# initialize pinecone\n",
    "pinecone.init(\n",
    "    api_key=PINECONE_API_KEY,  # find at app.pinecone.io\n",
    "    environment=PINECONE_API_ENV  # next to api key in console\n",
    ")\n",
    "index_name = \"langchainalgoedu\" # put in the name of your pinecone index here"
   ]
  },
  {
   "cell_type": "code",
   "execution_count": 38,
   "id": "ab3fad68",
   "metadata": {},
   "outputs": [
    {
     "data": {
      "text/plain": [
       "['langchainalgoedu']"
      ]
     },
     "execution_count": 38,
     "metadata": {},
     "output_type": "execute_result"
    }
   ],
   "source": [
    "pinecone.list_indexes()"
   ]
  },
  {
   "cell_type": "code",
   "execution_count": 41,
   "id": "c5b8f927",
   "metadata": {},
   "outputs": [],
   "source": [
    "index = pinecone.Index(pinecone_index)\n"
   ]
  },
  {
   "cell_type": "code",
   "execution_count": 42,
   "id": "5d777c97",
   "metadata": {},
   "outputs": [
    {
     "data": {
      "text/plain": [
       "{'dimension': 1536,\n",
       " 'index_fullness': 0.1,\n",
       " 'namespaces': {'': {'vector_count': 2725}},\n",
       " 'total_vector_count': 2725}"
      ]
     },
     "execution_count": 42,
     "metadata": {},
     "output_type": "execute_result"
    }
   ],
   "source": [
    "index.describe_index_stats()"
   ]
  },
  {
   "cell_type": "code",
   "execution_count": null,
   "id": "388988ce",
   "metadata": {},
   "outputs": [],
   "source": [
    "docsearch = Pinecone.from_texts([t.page_content for t in texts], embeddings, index_name=index_name)"
   ]
  },
  {
   "cell_type": "code",
   "execution_count": 44,
   "id": "cd5d169d",
   "metadata": {},
   "outputs": [],
   "source": [
    "docsearch = Pinecone.from_existing_index(index_name=index_name, embedding=embeddings)"
   ]
  },
  {
   "cell_type": "code",
   "execution_count": 46,
   "id": "34929595",
   "metadata": {},
   "outputs": [],
   "source": [
    "query = \"What is Kruskal algorithm?\"\n",
    "docs = docsearch.similarity_search(query)"
   ]
  },
  {
   "cell_type": "code",
   "execution_count": 20,
   "id": "4e0f5b45",
   "metadata": {},
   "outputs": [],
   "source": [
    "# Here's an example of the first document that was returned\n",
    "#print(docs[0].page_content[:450])"
   ]
  },
  {
   "attachments": {},
   "cell_type": "markdown",
   "id": "3c35dcd9",
   "metadata": {},
   "source": [
    "### Query those docs to get your answer back"
   ]
  },
  {
   "cell_type": "code",
   "execution_count": 30,
   "id": "f051337b",
   "metadata": {},
   "outputs": [],
   "source": [
    "from langchain.llms import OpenAI\n",
    "from langchain.chains.question_answering import load_qa_chain"
   ]
  },
  {
   "cell_type": "code",
   "execution_count": 47,
   "id": "6b9b1c03",
   "metadata": {},
   "outputs": [],
   "source": [
    "llm = OpenAI(temperature = 0.2, max_tokens = 200, top_p = 0.2, frequency_penalty = 0.8, presence_penalty = 0.1, openai_api_key=OPENAI_API_KEY)\n",
    "chain = load_qa_chain(llm, chain_type=\"stuff\")"
   ]
  },
  {
   "cell_type": "code",
   "execution_count": 48,
   "id": "43d42cff",
   "metadata": {},
   "outputs": [],
   "source": [
    "topic = \"Kruskal algorithm\""
   ]
  },
  {
   "attachments": {},
   "cell_type": "markdown",
   "id": "435638db",
   "metadata": {},
   "source": [
    "## 1. Ask random questions"
   ]
  },
  {
   "cell_type": "code",
   "execution_count": 49,
   "id": "f67ea7c2",
   "metadata": {},
   "outputs": [],
   "source": [
    "query = f\"Ask me 5 questions about {topic}\"\n",
    "docs = docsearch.similarity_search(query)"
   ]
  },
  {
   "cell_type": "code",
   "execution_count": 50,
   "id": "3dfd2b7d",
   "metadata": {},
   "outputs": [],
   "source": [
    "response_1 = chain.run(input_documents=docs, question=query)"
   ]
  },
  {
   "cell_type": "code",
   "execution_count": 51,
   "id": "fc4459d1",
   "metadata": {},
   "outputs": [
    {
     "name": "stdout",
     "output_type": "stream",
     "text": [
      "\n",
      "1. What is Kruskal's algorithm? \n",
      "2. How does Kruskal's algorithm work? \n",
      "3. What is the purpose of Kruskal's algorithm? \n",
      "4. What are the steps involved in implementing Kruskal's algorithm? \n",
      "5. How can Kruskal's algorithm be used to solve a graph problem?\n"
     ]
    }
   ],
   "source": [
    "print(response_1)"
   ]
  },
  {
   "cell_type": "code",
   "execution_count": null,
   "id": "58e814d8",
   "metadata": {},
   "outputs": [],
   "source": []
  },
  {
   "attachments": {},
   "cell_type": "markdown",
   "id": "c7bd3381",
   "metadata": {},
   "source": [
    "## 2. Key Points for studying"
   ]
  },
  {
   "cell_type": "code",
   "execution_count": 19,
   "id": "6625073c",
   "metadata": {},
   "outputs": [],
   "source": [
    "# Create study notes Model\n",
    "response_2 = openai.Completion.create(\n",
    "  model=\"text-davinci-003\",\n",
    "  prompt=f\"What are main key points I should know when studying {topic}?\",\n",
    "  temperature=0.2,\n",
    "  max_tokens=150,\n",
    "  top_p=1.0,\n",
    "  frequency_penalty=0.0,\n",
    "  presence_penalty=0.0\n",
    ")"
   ]
  },
  {
   "cell_type": "code",
   "execution_count": 20,
   "id": "4d3445b9",
   "metadata": {},
   "outputs": [
    {
     "name": "stdout",
     "output_type": "stream",
     "text": [
      "\n",
      "\n",
      "1. Kruskal's algorithm is a greedy algorithm used to find the minimum spanning tree of a graph.\n",
      "2. It works by sorting the edges of the graph by weight, then selecting the edges with the lowest weight until a spanning tree is formed.\n",
      "3. The algorithm is used to find the most efficient way to connect all the vertices of a graph with the minimum total weight of the edges.\n",
      "4. Kruskal's algorithm is used in network design problems, such as finding the most efficient way to connect computers in a network.\n",
      "5. The algorithm is also used in image segmentation, clustering, and other applications.\n",
      "6. Kruskal's algorithm is a good choice when the graph is\n"
     ]
    }
   ],
   "source": [
    "print(response_2.choices[0].text)"
   ]
  },
  {
   "attachments": {},
   "cell_type": "markdown",
   "id": "53858d27",
   "metadata": {},
   "source": [
    "## 3. Give Pseudocode -- not work yet"
   ]
  },
  {
   "cell_type": "code",
   "execution_count": 52,
   "id": "a8380c54",
   "metadata": {},
   "outputs": [
    {
     "name": "stdout",
     "output_type": "stream",
     "text": [
      " The pseudocode for Kruskal's algorithm is as follows: \n",
      "1. Initialize the set A to the empty set and create jVj trees, one containing each vertex. \n",
      "2. Take edges in non-decreasing order by weight. \n",
      "3. For each edge (u, v): \n",
      "    a) If FIND-SET(u) ≠ FIND-SET(v): \n",
      "        i) Add edge (u, v) to A \n",
      "        ii) UNION(u, v). \n",
      "4. Return A\n"
     ]
    }
   ],
   "source": [
    "query_3 = f\"Give me a pseudocode of how {topic} works\"\n",
    "response_3 = chain.run(input_documents=docs, question=query_3)\n",
    "print(response_3)   "
   ]
  },
  {
   "attachments": {},
   "cell_type": "markdown",
   "id": "f8129a27",
   "metadata": {},
   "source": [
    "## 4. Interview questions about algorithm"
   ]
  },
  {
   "cell_type": "code",
   "execution_count": 22,
   "id": "591bcbaf",
   "metadata": {},
   "outputs": [],
   "source": [
    "topic = \"Kruskal algorithm\""
   ]
  },
  {
   "cell_type": "code",
   "execution_count": 23,
   "id": "4a5d14a7",
   "metadata": {},
   "outputs": [],
   "source": [
    "response_4 = openai.Completion.create(\n",
    "  model=\"text-davinci-003\",\n",
    "  prompt=\"Create a list of 8 questions for my interview with a technical recruiter about {topic}:\",\n",
    "  temperature=0.5,\n",
    "  max_tokens=150,\n",
    "  top_p=1.0,\n",
    "  frequency_penalty=0.0,\n",
    "  presence_penalty=0.0\n",
    ")"
   ]
  },
  {
   "cell_type": "code",
   "execution_count": 24,
   "id": "ecff5313",
   "metadata": {},
   "outputs": [
    {
     "name": "stdout",
     "output_type": "stream",
     "text": [
      "\n",
      "\n",
      "1. What experience do you have in recruiting technical talent?\n",
      "2. What strategies do you use to source and attract technical talent?\n",
      "3. How have you successfully matched technical talent with the right organizations?\n",
      "4. What challenges have you encountered when recruiting technical talent?\n",
      "5. What do you consider the most important qualities to look for in a technical candidate?\n",
      "6. How do you ensure that technical candidates are well-suited to the organization's culture?\n",
      "7. What methods do you use to evaluate technical candidates?\n",
      "8. How do you keep up to date with the latest trends and developments in the technical recruiting field?\n"
     ]
    }
   ],
   "source": [
    "print(response_4.choices[0].text)"
   ]
  },
  {
   "cell_type": "code",
   "execution_count": null,
   "id": "40d570aa",
   "metadata": {},
   "outputs": [],
   "source": []
  },
  {
   "cell_type": "code",
   "execution_count": null,
   "id": "88ee1629",
   "metadata": {},
   "outputs": [],
   "source": []
  }
 ],
 "metadata": {
  "kernelspec": {
   "display_name": "Python 3 (ipykernel)",
   "language": "python",
   "name": "python3"
  },
  "language_info": {
   "codemirror_mode": {
    "name": "ipython",
    "version": 3
   },
   "file_extension": ".py",
   "mimetype": "text/x-python",
   "name": "python",
   "nbconvert_exporter": "python",
   "pygments_lexer": "ipython3",
   "version": "3.9.0"
  }
 },
 "nbformat": 4,
 "nbformat_minor": 5
}
